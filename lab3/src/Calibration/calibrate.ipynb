{
 "cells": [
  {
   "cell_type": "code",
   "execution_count": 6,
   "metadata": {},
   "outputs": [
    {
     "name": "stderr",
     "output_type": "stream",
     "text": [
      " 11%|█████████▏                                                                         | 2/18 [00:00<00:01, 10.48it/s]"
     ]
    },
    {
     "name": "stdout",
     "output_type": "stream",
     "text": [
      "Image loaded, Analizying...\n",
      "Chessboard detected!\n",
      "./img3\\left01.jpg\n",
      "Image loaded, Analizying...\n",
      "Chessboard detected!\n",
      "./img3\\left02.jpg\n",
      "Image loaded, Analizying...\n"
     ]
    },
    {
     "name": "stderr",
     "output_type": "stream",
     "text": [
      " 22%|██████████████████▍                                                                | 4/18 [00:00<00:01,  9.87it/s]"
     ]
    },
    {
     "name": "stdout",
     "output_type": "stream",
     "text": [
      "Chessboard detected!\n",
      "./img3\\left03.jpg\n",
      "Image loaded, Analizying...\n",
      "Chessboard detected!\n",
      "./img3\\left04.jpg\n",
      "Image loaded, Analizying...\n"
     ]
    },
    {
     "name": "stderr",
     "output_type": "stream",
     "text": [
      " 39%|████████████████████████████████▎                                                  | 7/18 [00:00<00:01,  9.73it/s]"
     ]
    },
    {
     "name": "stdout",
     "output_type": "stream",
     "text": [
      "Chessboard detected!\n",
      "./img3\\left05.jpg\n",
      "Image loaded, Analizying...\n",
      "Chessboard detected!\n",
      "./img3\\left06.jpg\n",
      "Image loaded, Analizying...\n",
      "Chessboard detected!\n",
      "./img3\\left07.jpg\n"
     ]
    },
    {
     "name": "stderr",
     "output_type": "stream",
     "text": [
      "\r",
      " 44%|████████████████████████████████████▉                                              | 8/18 [00:00<00:01,  7.28it/s]"
     ]
    },
    {
     "name": "stdout",
     "output_type": "stream",
     "text": [
      "Image loaded, Analizying...\n",
      "Chessboard detected!\n",
      "./img3\\left08.jpg\n"
     ]
    },
    {
     "name": "stderr",
     "output_type": "stream",
     "text": [
      "\r",
      " 50%|█████████████████████████████████████████▌                                         | 9/18 [00:01<00:01,  6.64it/s]"
     ]
    },
    {
     "name": "stdout",
     "output_type": "stream",
     "text": [
      "Image loaded, Analizying...\n",
      "Chessboard detected!\n",
      "./img3\\left09.jpg\n",
      "Image loaded, Analizying...\n",
      "Chessboard detected!\n",
      "./img3\\right01.jpg\n"
     ]
    },
    {
     "name": "stderr",
     "output_type": "stream",
     "text": [
      "\r",
      " 61%|██████████████████████████████████████████████████                                | 11/18 [00:01<00:00,  7.55it/s]"
     ]
    },
    {
     "name": "stdout",
     "output_type": "stream",
     "text": [
      "Image loaded, Analizying...\n",
      "Chessboard detected!\n",
      "./img3\\right02.jpg\n",
      "Image loaded, Analizying...\n",
      "Chessboard detected!\n",
      "./img3\\right03.jpg\n",
      "Image loaded, Analizying...\n"
     ]
    },
    {
     "name": "stderr",
     "output_type": "stream",
     "text": [
      " 78%|███████████████████████████████████████████████████████████████▊                  | 14/18 [00:01<00:00,  8.71it/s]"
     ]
    },
    {
     "name": "stdout",
     "output_type": "stream",
     "text": [
      "Chessboard detected!\n",
      "./img3\\right04.jpg\n",
      "Image loaded, Analizying...\n",
      "Chessboard detected!\n",
      "./img3\\right05.jpg\n",
      "Image loaded, Analizying...\n"
     ]
    },
    {
     "name": "stderr",
     "output_type": "stream",
     "text": [
      " 89%|████████████████████████████████████████████████████████████████████████▉         | 16/18 [00:01<00:00,  8.89it/s]"
     ]
    },
    {
     "name": "stdout",
     "output_type": "stream",
     "text": [
      "Chessboard detected!\n",
      "./img3\\right06.jpg\n",
      "Image loaded, Analizying...\n",
      "Chessboard detected!\n",
      "./img3\\right07.jpg\n",
      "Image loaded, Analizying...\n"
     ]
    },
    {
     "name": "stderr",
     "output_type": "stream",
     "text": [
      "100%|██████████████████████████████████████████████████████████████████████████████████| 18/18 [00:02<00:00,  8.89it/s]"
     ]
    },
    {
     "name": "stdout",
     "output_type": "stream",
     "text": [
      "Chessboard detected!\n",
      "./img3\\right08.jpg\n",
      "Image loaded, Analizying...\n",
      "Chessboard detected!\n",
      "./img3\\right09.jpg\n"
     ]
    },
    {
     "name": "stderr",
     "output_type": "stream",
     "text": [
      "\n"
     ]
    },
    {
     "name": "stdout",
     "output_type": "stream",
     "text": [
      "0.026347073279672766\n"
     ]
    }
   ],
   "source": [
    "'''\n",
    "Created by Omar Padierna \"Para11ax\" on Jan 1 2019\n",
    "\n",
    " This program is free software: you can redistribute it and/or modify\n",
    " it under the terms of the GNU General Public License as published by\n",
    " the Free Software Foundation, either version 3 of the License, or\n",
    " (at your option) any later version.\n",
    "\n",
    " This program is distributed in the hope that it will be useful,\n",
    " but WITHOUT ANY WARRANTY; without even the implied warranty of\n",
    " MERCHANTABILITY or FITNESS FOR A PARTICULAR PURPOSE.  See the\n",
    " GNU General Public License for more details.\n",
    "\n",
    "'''\n",
    "\n",
    "\n",
    "import cv2\n",
    "import numpy as np \n",
    "import glob\n",
    "from tqdm import tqdm\n",
    "import PIL.ExifTags\n",
    "import PIL.Image\n",
    "\n",
    "#============================================\n",
    "# Camera calibration\n",
    "#============================================\n",
    "\n",
    "#Define size of chessboard target. \n",
    "\n",
    "chessboard_size = (6,9)\n",
    "\n",
    "#Define arrays to save detected points\n",
    "obj_points = [] #3D points in real world space \n",
    "img_points = [] #3D points in image plane\n",
    "\n",
    "#Prepare grid and points to display\n",
    "\n",
    "objp = np.zeros((np.prod(chessboard_size),3),dtype=np.float32)\n",
    "\n",
    "\n",
    "objp[:,:2] = np.mgrid[0:chessboard_size[0], 0:chessboard_size[1]].T.reshape(-1,2)\n",
    "\n",
    "#read images\n",
    "\n",
    "calibration_paths = glob.glob('./img3/*')\n",
    "\n",
    "#Iterate over images to find intrinsic matrix\n",
    "for image_path in tqdm(calibration_paths):\n",
    "\n",
    "\t#Load image\n",
    "\timage = cv2.imread(image_path)\n",
    "\tgray_image = cv2.cvtColor(image, cv2.COLOR_BGR2GRAY)\n",
    "\tprint(\"Image loaded, Analizying...\")\n",
    "\t#find chessboard corners\n",
    "\tret,corners = cv2.findChessboardCorners(gray_image, chessboard_size, None)\n",
    "\n",
    "\tif ret == True:\n",
    "\t\tprint(\"Chessboard detected!\")\n",
    "\t\tprint(image_path)\n",
    "\t\t#define criteria for subpixel accuracy\n",
    "\t\tcriteria = (cv2.TERM_CRITERIA_EPS + cv2.TERM_CRITERIA_MAX_ITER, 30, 0.001)\n",
    "\t\t#refine corner location (to subpixel accuracy) based on criteria.\n",
    "\t\tcv2.cornerSubPix(gray_image, corners, (5,5), (-1,-1), criteria)\n",
    "\t\tobj_points.append(objp)\n",
    "\t\timg_points.append(corners)\n",
    "\n",
    "#Calibrate camera\n",
    "ret, K, dist, rvecs, tvecs = cv2.calibrateCamera(obj_points, img_points,gray_image.shape[::-1], None, None)\n",
    "\n",
    "#Save parameters into numpy file\n",
    "np.save(\"./camera_params/ret\", ret)\n",
    "np.save(\"./camera_params/K\", K)\n",
    "np.save(\"./camera_params/dist\", dist)\n",
    "np.save(\"./camera_params/rvecs\", rvecs)\n",
    "np.save(\"./camera_params/tvecs\", tvecs)\n",
    "\n",
    "#Get exif data in order to get focal length. \n",
    "#exif_img = PIL.Image.open(calibration_paths[0])\n",
    "\n",
    "#exif_data = {\n",
    "#\tPIL.ExifTags.TAGS[k]:v\n",
    "#\tfor k, v in exif_img._getexif().items()\n",
    "#\tif k in PIL.ExifTags.TAGS}\n",
    "\n",
    "#Get focal length in tuple form\n",
    "#focal_length_exif = exif_data['FocalLength']\n",
    "\n",
    "#Get focal length in decimal form\n",
    "focal_length = 4449/1296\n",
    "\n",
    "#Save focal length\n",
    "np.save(\"./camera_params/FocalLength\", focal_length)\n",
    "\n",
    "#Calculate projection error. \n",
    "mean_error = 0\n",
    "for i in range(len(obj_points)):\n",
    "\timg_points2, _ = cv2.projectPoints(obj_points[i],rvecs[i],tvecs[i], K, dist)\n",
    "\terror = cv2.norm(img_points[i], img_points2, cv2.NORM_L2)/len(img_points2)\n",
    "\tmean_error += error\n",
    "\n",
    "total_error = mean_error/len(obj_points)\n",
    "print (total_error)\n"
   ]
  },
  {
   "cell_type": "code",
   "execution_count": null,
   "metadata": {
    "collapsed": true
   },
   "outputs": [],
   "source": []
  },
  {
   "cell_type": "code",
   "execution_count": null,
   "metadata": {
    "collapsed": true
   },
   "outputs": [],
   "source": []
  }
 ],
 "metadata": {
  "kernelspec": {
   "display_name": "Python 3",
   "language": "python",
   "name": "python3"
  },
  "language_info": {
   "codemirror_mode": {
    "name": "ipython",
    "version": 3
   },
   "file_extension": ".py",
   "mimetype": "text/x-python",
   "name": "python",
   "nbconvert_exporter": "python",
   "pygments_lexer": "ipython3",
   "version": "3.7.0"
  }
 },
 "nbformat": 4,
 "nbformat_minor": 2
}
